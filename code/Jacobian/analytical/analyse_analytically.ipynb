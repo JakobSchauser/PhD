{
 "cells": [
  {
   "cell_type": "markdown",
   "id": "b040aeb9",
   "metadata": {},
   "source": [
    "# Analytical Formulation of the 2D Diffusion Equations\n",
    "We write the equations solved numerically in the simulation as analytical PDEs using sympy."
   ]
  },
  {
   "cell_type": "code",
   "execution_count": 7,
   "id": "9c2ca606",
   "metadata": {},
   "outputs": [],
   "source": [
    "import sympy as sp"
   ]
  },
  {
   "cell_type": "markdown",
   "id": "8a272419",
   "metadata": {},
   "source": [
    "## Define Variables and Functions\n",
    "Let $a(x, y, t)$ and $b(x, y, t)$ be the concentrations of chemicals A and B, respectively."
   ]
  },
  {
   "cell_type": "code",
   "execution_count": 8,
   "id": "0212c718",
   "metadata": {},
   "outputs": [],
   "source": [
    "x, y, t = sp.symbols('x y t', real=True)\n",
    "a = sp.Function('a')(x, y, t)\n",
    "b = sp.Function('b')(x, y, t)\n",
    "diff_a, diff_b = sp.symbols('D_a D_b', positive=True, real=True)"
   ]
  },
  {
   "cell_type": "markdown",
   "id": "4029431d",
   "metadata": {},
   "source": [
    "## Write the Diffusion Equations\n",
    "The equations are:\n",
    "\n",
    "$$\n",
    "\\frac{\\partial a}{\\partial t} = D_a \\left( \\frac{\\partial^2 a}{\\partial x^2} + \\frac{\\partial^2 a}{\\partial y^2} \\right)\n",
    "$$\n",
    "\n",
    "$$\n",
    "\\frac{\\partial b}{\\partial t} = D_b \\left( \\frac{\\partial^2 b}{\\partial x^2} + \\frac{\\partial^2 b}{\\partial y^2} \\right)\n",
    "$$"
   ]
  },
  {
   "cell_type": "code",
   "execution_count": 9,
   "id": "b9005285",
   "metadata": {},
   "outputs": [
    {
     "data": {
      "text/latex": [
       "$\\displaystyle \\frac{\\partial}{\\partial t} a{\\left(x,y,t \\right)} = D_{a} \\left(\\frac{\\partial^{2}}{\\partial x^{2}} a{\\left(x,y,t \\right)} + \\frac{\\partial^{2}}{\\partial y^{2}} a{\\left(x,y,t \\right)}\\right)$"
      ],
      "text/plain": [
       "Eq(Derivative(a(x, y, t), t), D_a*(Derivative(a(x, y, t), (x, 2)) + Derivative(a(x, y, t), (y, 2))))"
      ]
     },
     "metadata": {},
     "output_type": "display_data"
    },
    {
     "data": {
      "text/latex": [
       "$\\displaystyle \\frac{\\partial}{\\partial t} b{\\left(x,y,t \\right)} = D_{b} \\left(\\frac{\\partial^{2}}{\\partial x^{2}} b{\\left(x,y,t \\right)} + \\frac{\\partial^{2}}{\\partial y^{2}} b{\\left(x,y,t \\right)}\\right)$"
      ],
      "text/plain": [
       "Eq(Derivative(b(x, y, t), t), D_b*(Derivative(b(x, y, t), (x, 2)) + Derivative(b(x, y, t), (y, 2))))"
      ]
     },
     "metadata": {},
     "output_type": "display_data"
    }
   ],
   "source": [
    "# Analytical PDEs\n",
    "pde_a = sp.Eq(a.diff(t), diff_a * (a.diff(x, 2) + a.diff(y, 2)))\n",
    "pde_b = sp.Eq(b.diff(t), diff_b * (b.diff(x, 2) + b.diff(y, 2)))\n",
    "display(pde_a)\n",
    "display(pde_b)"
   ]
  },
  {
   "cell_type": "markdown",
   "id": "f0b911f6",
   "metadata": {},
   "source": [
    "## Explicit Numerical Scheme for the Laplacian (Neighbor Sum Notation)\n",
    "The Laplacian in the simulation can be written more generally as a sum over the four nearest neighbors:\n",
    "\n",
    "$$\n",
    "\\nabla^2 a_{i,j} \\approx -4 a_{i,j} + \\sum_{nb} a_{nb}\n",
    "$$\n",
    "\n",
    "where $a_{nb}$ denotes the value of $a$ at each of the neighboring grid points."
   ]
  },
  {
   "cell_type": "code",
   "execution_count": 24,
   "id": "4f682637",
   "metadata": {},
   "outputs": [
    {
     "data": {
      "text/latex": [
       "$\\displaystyle - 4 a_{ij} + \\sum_{nb=1}^{4} a_{nb}$"
      ],
      "text/plain": [
       "-4*a_ij + Sum(a_nb, (nb, 1, 4))"
      ]
     },
     "execution_count": 24,
     "metadata": {},
     "output_type": "execute_result"
    }
   ],
   "source": [
    "# Symbolic form using neighbor sum\n",
    "from sympy import symbols, Sum, Idx\n",
    "\n",
    "a_ij = symbols('a_ij')\n",
    "a_nb = symbols('a_nb')  # generic neighbor value\n",
    "nb = Idx('nb')      # 4 neighbors\n",
    "laplacian_sum = -4*a_ij + Sum(a_nb, (nb, 1, 4))\n",
    "laplacian_sum"
   ]
  },
  {
   "cell_type": "markdown",
   "id": "3cb0a4b0",
   "metadata": {},
   "source": [
    "## Full Explicit Update Equations (Numerical Scheme)\n",
    "The explicit update for each chemical at grid point $(i, j)$ and time $t$ is:\n",
    "\n",
    "$$\n",
    "\\begin{align*}\n",
    "    a_{i,j}^{t+1} &= a_{i,j}^t + D_a \\cdot \\Delta t \\left( -4 a_{i,j}^t + \\sum_{nb} a_{nb}^t \\right) \\\\\n",
    "    b_{i,j}^{t+1} &= b_{i,j}^t + D_b \\cdot \\Delta t \\left( -4 b_{i,j}^t + \\sum_{nb} b_{nb}^t \\right)\n",
    "\\end{align*}\n",
    "$$\n",
    "\n",
    "where $a_{nb}^t$ and $b_{nb}^t$ are the values at the four neighboring grid points at time $t$."
   ]
  },
  {
   "cell_type": "code",
   "execution_count": 22,
   "id": "98292f09",
   "metadata": {},
   "outputs": [
    {
     "data": {
      "text/latex": [
       "$\\displaystyle D_{a} \\Delta_{t} \\left(- 4 a_{ij t} + \\sum_{{nb}_{0\\mathrel{..}\\nobreak 4}=1}^{4} a_{nb t}\\right) + a_{ij t}$"
      ],
      "text/plain": [
       "D_a*Delta_t*(-4*a_ij_t + Sum(a_nb_t, (nb, 1, 4))) + a_ij_t"
      ]
     },
     "execution_count": 22,
     "metadata": {},
     "output_type": "execute_result"
    }
   ],
   "source": [
    "# Symbolic explicit update equations for a and b\n",
    "from sympy import symbols, Sum, Idx\n",
    "\n",
    "a_ij_t = symbols('a_ij_t')\n",
    "b_ij_t = symbols('b_ij_t')\n",
    "a_nb_t = symbols('a_nb_t')\n",
    "b_nb_t = symbols('b_nb_t')\n",
    "Da, Db, dt = symbols('D_a D_b Delta_t')\n",
    "nb = Idx('nb', 5)\n",
    "\n",
    "update_a = a_ij_t + Da * dt * (-4*a_ij_t + Sum(a_nb_t, (nb, 1, 4)))\n",
    "update_b = b_ij_t + Db * dt * (-4*b_ij_t + Sum(b_nb_t, (nb, 1, 4)))\n",
    "update_a"
   ]
  }
 ],
 "metadata": {
  "kernelspec": {
   "display_name": "base",
   "language": "python",
   "name": "python3"
  },
  "language_info": {
   "codemirror_mode": {
    "name": "ipython",
    "version": 3
   },
   "file_extension": ".py",
   "mimetype": "text/x-python",
   "name": "python",
   "nbconvert_exporter": "python",
   "pygments_lexer": "ipython3",
   "version": "3.12.9"
  }
 },
 "nbformat": 4,
 "nbformat_minor": 5
}
