{
 "cells": [
  {
   "cell_type": "code",
   "execution_count": 12,
   "metadata": {},
   "outputs": [],
   "source": [
    "import numpy as np\n",
    "import matplotlib.pyplot as plt\n",
    "\n",
    "import torch\n",
    "import rootutils\n",
    "root = rootutils.setup_root(\"./scripts/\", dotenv=True, pythonpath=True,  indicator =  [\".project-root\"], cwd = True)\n",
    "\n",
    "\n",
    "from scripts.models import CustomGNN\n",
    "from scripts.environment import Environment\n",
    "from scripts.pruning import prune, get_quality"
   ]
  },
  {
   "cell_type": "code",
   "execution_count": 10,
   "metadata": {},
   "outputs": [],
   "source": [
    "\n",
    "# load the data\n",
    "\n",
    "positions = []\n",
    "data = []\n",
    "for i in range(10):\n",
    "    positions.append(np.load(f\"positions/random_{i}_positions.npy\"))\n",
    "    SMAD_ERK = np.load(f\"positions/random_{i}_SMAD_and_ERK.npy\")\n",
    "    SMAD_ERK = SMAD_ERK.swapaxes(1, 2)\n",
    "\n",
    "    # SMAD_ERK[:,:,0] *= 100.\n",
    "    # SMAD_ERK[:,:,1] *= 100.\n",
    "\n",
    "    d = SMAD_ERK[:500,:,:]\n",
    "    data.append(d)"
   ]
  },
  {
   "cell_type": "code",
   "execution_count": 15,
   "metadata": {},
   "outputs": [
    {
     "name": "stdout",
     "output_type": "stream",
     "text": [
      "OrderedDict([('input_layer.lin_rel.weight', tensor([[ 0.0671, -0.0000,  0.0000,  0.2951, -0.0241, -0.1873],\n",
      "        [ 0.0000, -0.0000, -0.6716,  0.8312, -0.0000,  0.0000],\n",
      "        [-1.5121,  0.0000, -0.0865,  0.9840,  1.0036, -0.0000],\n",
      "        [-0.0000, -0.0000, -0.0000,  0.0000,  0.1898,  0.0000],\n",
      "        [ 0.0000,  0.0000, -0.6285, -0.7086, -0.5783, -2.2004],\n",
      "        [ 0.0000, -0.0000,  0.8135,  0.4294, -0.0000, -0.0000]])), ('input_layer.lin_rel.bias', tensor([-0.3547, -0.0144,  0.1951, -0.4454,  0.6752, -0.0247])), ('output_layer.weight', tensor([[-0.0204,  0.3917, -0.2789, -0.0000, -0.5412,  0.3469],\n",
      "        [ 0.0000,  0.0328,  0.7182,  0.0000, -0.5199, -0.0000]])), ('output_layer.bias', tensor([0.4199, 0.1976]))])\n",
      "(1000, 9) (1000, 9)\n"
     ]
    },
    {
     "data": {
      "text/plain": [
       "np.float64(18.019242137929066)"
      ]
     },
     "execution_count": 15,
     "metadata": {},
     "output_type": "execute_result"
    }
   ],
   "source": [
    "# load the model\n",
    "path = \"model200.pth\"\n",
    "model = CustomGNN(3, [6], 2, aggregation=\"mean\", biases = False)\n",
    "model.load_state_dict(torch.load(path))\n",
    "model.eval()\n",
    "\n",
    "print(model.state_dict())\n",
    "\n",
    "get_quality(model, data, positions, 5)\n"
   ]
  }
 ],
 "metadata": {
  "kernelspec": {
   "display_name": "drosophila",
   "language": "python",
   "name": "python3"
  },
  "language_info": {
   "codemirror_mode": {
    "name": "ipython",
    "version": 3
   },
   "file_extension": ".py",
   "mimetype": "text/x-python",
   "name": "python",
   "nbconvert_exporter": "python",
   "pygments_lexer": "ipython3",
   "version": "3.10.13"
  }
 },
 "nbformat": 4,
 "nbformat_minor": 2
}
