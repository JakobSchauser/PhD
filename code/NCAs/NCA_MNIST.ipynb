{
 "cells": [
  {
   "cell_type": "code",
   "execution_count": 2,
   "metadata": {},
   "outputs": [],
   "source": [
    "import numpy as np\n",
    "import torch\n",
    "\n",
    "import matplotlib.pyplot as plt\n",
    "\n"
   ]
  },
  {
   "cell_type": "code",
   "execution_count": 3,
   "metadata": {},
   "outputs": [],
   "source": [
    "data = np.loadtxt('MNIST/mnist_train.csv', delimiter=',',)"
   ]
  },
  {
   "cell_type": "code",
   "execution_count": 52,
   "metadata": {},
   "outputs": [],
   "source": [
    "labels = data[:,0]\n",
    "images = data[:,1:]>0"
   ]
  },
  {
   "cell_type": "code",
   "execution_count": 74,
   "metadata": {},
   "outputs": [],
   "source": [
    "# distances from center in an 28x28 image\n",
    "x = np.linspace(-13.5, 13.5, 28)\n",
    "\n",
    "\n",
    "dists = np.sqrt(np.add.outer(x**2, x**2))"
   ]
  },
  {
   "cell_type": "code",
   "execution_count": null,
   "metadata": {},
   "outputs": [],
   "source": [
    "from torch_geometric.nn import GCNConv, Linear, GraphConv\n",
    "import torch.nn.functional as F\n",
    "from torch_geometric.nn import MessagePassing\n",
    "from typing import Union, Tuple\n",
    "from torch_geometric.typing import Adj, OptTensor, Size, OptPairTensor, Tensor\n",
    "from torch_geometric.utils import spmm\n",
    "\n",
    "class CustomGraphConv(MessagePassing):\n",
    "\tdef __init__(\n",
    "\t\tself,\n",
    "\t\taggr: str = 'mean',\n",
    "\t\tbias: bool = True,\n",
    "\t\tout_channels: int = 8,\n",
    "\t\t**kwargs,\n",
    "\t):\n",
    "\t\tsuper().__init__(aggr=aggr, **kwargs)\n",
    "\n",
    "\n",
    "\t\tself.lin_rel = Linear(3, out_channels=out_channels, bias=bias)\n",
    "\n",
    "\t\tself.reset_parameters()\n",
    "\n",
    "\tdef reset_parameters(self):\n",
    "\t\tsuper().reset_parameters()\n",
    "\t\tself.lin_rel.reset_parameters()\n",
    "\t\t# self.lin_root.reset_parameters()\n",
    "\n",
    "\n",
    "\tdef forward(self, x: Union[Tensor, OptPairTensor], edge_index: Adj,\n",
    "\t\t\t\tedge_weight: OptTensor = None, size: Size = None, add_root_weight : bool = True) -> Tensor:\n",
    "\n",
    "\t\tmsg = self.propagate(edge_index, x=x[:,0].unsqueeze(1), edge_weight=edge_weight,\n",
    "\t\t\t\t\t\t\t size=None)\n",
    "\t\t\n",
    "\n",
    "\n",
    "\t\tmsg = torch.cat([x, msg], dim=1)\n",
    "\n",
    "\n",
    "\t\tout = self.lin_rel(msg)\n",
    "\t\t\n",
    "\t\treturn out\n",
    "\n",
    "\n",
    "\tdef message_and_aggregate(self, adj_t: Adj, x: OptPairTensor) -> Tensor:\n",
    "\t\tprint(self.aggr)\n",
    "\t\treturn spmm(adj_t, x[0], reduce=self.aggr)\n",
    "\t\n",
    "\n",
    "class CustomGraphNCA(torch.nn.Module):\n",
    "\tdef __init__(self):\n",
    "\t\tsuper(CustomGraphNCA, self).__init__()\n",
    "\t\tN = 8\n",
    "\t\tself.conv1 = CustomGraphConv(out_channels=N)\n",
    "\t\tself.lin = Linear(N, N)\n",
    "\t\tself.lin2 = Linear(N, 10)\n",
    "\n",
    "\tdef forward(self, x, edge_index, edge_weight):\n",
    "\t\tx = F.relu(self.conv1(x, edge_index, edge_weight))\n",
    "\t\tx = F.relu(self.lin(x))\n",
    "\t\tx = F.relu(self.lin2(x))\n",
    "\n",
    "\n",
    "\t\t# take weighted average of the guesses\n",
    "\t\t# out = F.softmax(x, dim=1)\n",
    "\t\t# out = F.relu(x)\n",
    "\t\tout = x\n",
    "\t\t# out = torch.sum(out, dim=0)\n",
    "\t\t# nonzero mean\n",
    "\t\t# nonzero = torch.nonzero(out)\n",
    "\t\t# out = out[nonzero].mean(dim=0)\n",
    "\t\tout = out.sum(dim=0)\n",
    "\t\t# out = F.softmax(out, dim=0)\n",
    "\t\t\n",
    "\t\treturn out\n",
    "\t\n",
    "\n",
    "# define edges for a 28x28 grid where each node is connected to its 8 neighbors\n",
    "N = 28\n",
    "\n",
    "adjacency = np.zeros((N*N, N*N))\n",
    "\n",
    "\n",
    "for i in range(N):\n",
    "\tfor j in range(N):\n",
    "\t\tneighbors = []\n",
    "\t\tif i > 0:\n",
    "\t\t\tneighbors.append((i-1)*N+j)\n",
    "\t\tif i < N-1:\n",
    "\t\t\tneighbors.append((i+1)*N+j)\n",
    "\t\tif j > 0:\n",
    "\t\t\tneighbors.append(i*N+j-1)\n",
    "\t\tif j < N-1:\n",
    "\t\t\tneighbors.append(i*N+j+1)\n",
    "\t\tif i > 0 and j > 0:\n",
    "\t\t\tneighbors.append((i-1)*N+j-1)\n",
    "\t\tif i > 0 and j < N-1:\n",
    "\t\t\tneighbors.append((i-1)*N+j+1)\n",
    "\t\tif i < N-1 and j > 0:\n",
    "\t\t\tneighbors.append((i+1)*N+j-1)\n",
    "\t\tif i < N-1 and j < N-1:\n",
    "\t\t\tneighbors.append((i+1)*N+j+1)\n",
    "\t\tfor n in neighbors:\n",
    "\t\t\tadjacency[i*N+j, n] = 1\n",
    "\t\t\tadjacency[n, i*N+j] = 1\n",
    "\n",
    "\n",
    "\n",
    "\n",
    "# make the adjacency matrix into edge list\n",
    "edges = []\n",
    "for i in range(N*N):\n",
    "\tfor j in range(N*N):\n",
    "\t\tif adjacency[i,j] == 1:\n",
    "\t\t\tedges.append((i,j))\n",
    "\n",
    "edge_index = torch.tensor(edges, dtype=torch.long).t().contiguous()\n",
    "\n",
    "# make edge weights 1 if the nodes are to the right -1 if to the left\n",
    "edge_weights = torch.tensor([1 if i%N < j%N else -1 for i,j in edges], dtype=torch.float32)\n",
    "\n"
   ]
  },
  {
   "cell_type": "code",
   "execution_count": 179,
   "metadata": {},
   "outputs": [
    {
     "data": {
      "text/plain": [
       "60000"
      ]
     },
     "execution_count": 179,
     "metadata": {},
     "output_type": "execute_result"
    }
   ],
   "source": [
    "len(images)"
   ]
  },
  {
   "cell_type": "code",
   "execution_count": 180,
   "metadata": {},
   "outputs": [
    {
     "name": "stdout",
     "output_type": "stream",
     "text": [
      "Iteration 1000 | 1.67, loss: 2.3560497760772705\n",
      "Accuracy: 0.1860000044107437\n",
      "Iteration 2000 | 3.33, loss: 2.0651392936706543\n",
      "Accuracy: 0.19499999284744263\n",
      "Iteration 3000 | 5.0, loss: 2.407463312149048\n",
      "Accuracy: 0.23100000619888306\n",
      "Iteration 4000 | 6.67, loss: 2.2168140411376953\n",
      "Accuracy: 0.22100000083446503\n",
      "Iteration 5000 | 8.33, loss: 2.6401820182800293\n",
      "Accuracy: 0.24699999392032623\n",
      "Iteration 6000 | 10.0, loss: 2.166019916534424\n",
      "Accuracy: 0.23499999940395355\n",
      "Iteration 7000 | 11.7, loss: 2.2097606658935547\n",
      "Accuracy: 0.23800000548362732\n",
      "Iteration 8000 | 13.3, loss: 2.195850372314453\n",
      "Accuracy: 0.23499999940395355\n",
      "Iteration 9000 | 15.0, loss: 2.471195936203003\n",
      "Accuracy: 0.25\n",
      "Iteration 10000 | 16.7, loss: 1.4279191493988037\n",
      "Accuracy: 0.25999999046325684\n"
     ]
    },
    {
     "data": {
      "image/png": "[encoded data removed]",
      "text/plain": [
       "<Figure size 640x480 with 1 Axes>"
      ]
     },
     "metadata": {},
     "output_type": "display_data"
    },
    {
     "name": "stdout",
     "output_type": "stream",
     "text": [
      "tensor([0.3235, 0.0463, 0.0463, 0.0463, 0.0549, 0.0463, 0.0859, 0.2398, 0.0463,\n",
      "        0.0646], grad_fn=<SoftmaxBackward0>)\n",
      "Iteration 11000 | 18.3, loss: 3.038463592529297\n",
      "Accuracy: 0.23100000619888306\n",
      "Iteration 12000 | 20.0, loss: 2.45483660697937\n",
      "Accuracy: 0.24799999594688416\n",
      "Iteration 13000 | 21.7, loss: 1.7301932573318481\n",
      "Accuracy: 0.23800000548362732\n",
      "Iteration 14000 | 23.3, loss: 1.7108469009399414\n",
      "Accuracy: 0.23100000619888306\n",
      "Iteration 15000 | 25.0, loss: 1.1864598989486694\n",
      "Accuracy: 0.24300000071525574\n",
      "Iteration 16000 | 26.7, loss: 2.2965025901794434\n",
      "Accuracy: 0.25999999046325684\n",
      "Iteration 17000 | 28.3, loss: 1.8884471654891968\n",
      "Accuracy: 0.24799999594688416\n",
      "Iteration 18000 | 30.0, loss: 2.415513753890991\n",
      "Accuracy: 0.2770000100135803\n",
      "Iteration 19000 | 31.7, loss: 1.7935508489608765\n",
      "Accuracy: 0.26100000739097595\n",
      "Iteration 20000 | 33.3, loss: 2.838979721069336\n",
      "Accuracy: 0.2980000078678131\n"
     ]
    },
    {
     "data": {
      "image/png": "[encoded data removed]",
      "text/plain": [
       "<Figure size 640x480 with 1 Axes>"
      ]
     },
     "metadata": {},
     "output_type": "display_data"
    },
    {
     "name": "stdout",
     "output_type": "stream",
     "text": [
      "tensor([0.1115, 0.0728, 0.0585, 0.0585, 0.1658, 0.0585, 0.1690, 0.1205, 0.0770,\n",
      "        0.1079], grad_fn=<SoftmaxBackward0>)\n",
      "Iteration 21000 | 35.0, loss: 2.133331775665283\n",
      "Accuracy: 0.26499998569488525\n",
      "Iteration 22000 | 36.7, loss: 1.7661590576171875\n",
      "Accuracy: 0.2750000059604645\n",
      "Iteration 23000 | 38.3, loss: 2.6321616172790527\n",
      "Accuracy: 0.26600000262260437\n",
      "Iteration 24000 | 40.0, loss: 2.5165462493896484\n",
      "Accuracy: 0.2720000147819519\n",
      "Iteration 25000 | 41.7, loss: 0.9290990829467773\n",
      "Accuracy: 0.26499998569488525\n",
      "Iteration 26000 | 43.3, loss: 2.1113386154174805\n",
      "Accuracy: 0.3149999976158142\n",
      "Iteration 27000 | 45.0, loss: 2.6236064434051514\n",
      "Accuracy: 0.2800000011920929\n",
      "Iteration 28000 | 46.7, loss: 1.4050730466842651\n",
      "Accuracy: 0.28700000047683716\n",
      "Iteration 29000 | 48.3, loss: 2.515137195587158\n",
      "Accuracy: 0.3070000112056732\n",
      "Iteration 30000 | 50.0, loss: 1.7413544654846191\n",
      "Accuracy: 0.27300000190734863\n"
     ]
    },
    {
     "data": {
      "image/png": "[encoded data removed]",
      "text/plain": [
       "<Figure size 640x480 with 1 Axes>"
      ]
     },
     "metadata": {},
     "output_type": "display_data"
    },
    {
     "name": "stdout",
     "output_type": "stream",
     "text": [
      "tensor([0.0860, 0.1753, 0.0802, 0.0802, 0.1228, 0.0802, 0.0905, 0.1050, 0.0858,\n",
      "        0.0939], grad_fn=<SoftmaxBackward0>)\n",
      "Iteration 31000 | 51.7, loss: 2.5615854263305664\n",
      "Accuracy: 0.2750000059604645\n",
      "Iteration 32000 | 53.3, loss: 2.9513490200042725\n",
      "Accuracy: 0.30000001192092896\n",
      "Iteration 33000 | 55.0, loss: 1.794564962387085\n",
      "Accuracy: 0.2849999964237213\n",
      "Iteration 34000 | 56.7, loss: 1.5959333181381226\n",
      "Accuracy: 0.3199999928474426\n",
      "Iteration 35000 | 58.3, loss: 2.1720786094665527\n",
      "Accuracy: 0.3330000042915344\n",
      "Iteration 36000 | 60.0, loss: 1.5159333944320679\n",
      "Accuracy: 0.3199999928474426\n",
      "Iteration 37000 | 61.7, loss: 2.8788270950317383\n",
      "Accuracy: 0.30799999833106995\n",
      "Iteration 38000 | 63.3, loss: 1.2172529697418213\n",
      "Accuracy: 0.30399999022483826\n",
      "Iteration 39000 | 65.0, loss: 1.7658758163452148\n",
      "Accuracy: 0.32499998807907104\n",
      "Iteration 40000 | 66.7, loss: 2.8080341815948486\n",
      "Accuracy: 0.30399999022483826\n"
     ]
    },
    {
     "data": {
      "image/png": "[encoded data removed]",
      "text/plain": [
       "<Figure size 640x480 with 1 Axes>"
      ]
     },
     "metadata": {},
     "output_type": "display_data"
    },
    {
     "name": "stdout",
     "output_type": "stream",
     "text": [
      "tensor([0.0603, 0.1271, 0.0603, 0.0603, 0.1296, 0.0603, 0.0827, 0.0783, 0.2348,\n",
      "        0.1063], grad_fn=<SoftmaxBackward0>)\n",
      "Iteration 41000 | 68.3, loss: 0.9863420128822327\n",
      "Accuracy: 0.33399999141693115\n",
      "Iteration 42000 | 70.0, loss: 2.3102731704711914\n",
      "Accuracy: 0.2939999997615814\n",
      "Iteration 43000 | 71.7, loss: 1.498513102531433\n",
      "Accuracy: 0.3269999921321869\n",
      "Iteration 44000 | 73.3, loss: 1.405006766319275\n",
      "Accuracy: 0.3319999873638153\n",
      "Iteration 45000 | 75.0, loss: 2.744774341583252\n",
      "Accuracy: 0.3149999976158142\n",
      "Iteration 46000 | 76.7, loss: 1.645391821861267\n",
      "Accuracy: 0.29899999499320984\n",
      "Iteration 47000 | 78.3, loss: 4.119399070739746\n",
      "Accuracy: 0.32199999690055847\n",
      "Iteration 48000 | 80.0, loss: 3.02775502204895\n",
      "Accuracy: 0.32499998807907104\n",
      "Iteration 49000 | 81.7, loss: 2.8446621894836426\n",
      "Accuracy: 0.32499998807907104\n",
      "Iteration 50000 | 83.3, loss: 1.309664249420166\n",
      "Accuracy: 0.28200000524520874\n"
     ]
    },
    {
     "data": {
      "image/png": "[encoded data removed]",
      "text/plain": [
       "<Figure size 640x480 with 1 Axes>"
      ]
     },
     "metadata": {},
     "output_type": "display_data"
    },
    {
     "name": "stdout",
     "output_type": "stream",
     "text": [
      "tensor([0.0370, 0.1785, 0.0370, 0.0370, 0.0632, 0.0370, 0.1711, 0.0370, 0.2699,\n",
      "        0.1321], grad_fn=<SoftmaxBackward0>)\n",
      "Iteration 51000 | 85.0, loss: 1.4888033866882324\n",
      "Accuracy: 0.3070000112056732\n",
      "Iteration 52000 | 86.7, loss: 0.4131530821323395\n",
      "Accuracy: 0.32499998807907104\n",
      "Iteration 53000 | 88.3, loss: 3.2907943725585938\n",
      "Accuracy: 0.33000001311302185\n",
      "Iteration 54000 | 90.0, loss: 1.0367399454116821\n",
      "Accuracy: 0.3630000054836273\n",
      "Iteration 55000 | 91.7, loss: 1.1526442766189575\n",
      "Accuracy: 0.3400000035762787\n",
      "Iteration 56000 | 93.3, loss: 2.6304523944854736\n",
      "Accuracy: 0.3479999899864197\n",
      "Iteration 57000 | 95.0, loss: 3.058774709701538\n",
      "Accuracy: 0.3449999988079071\n",
      "Iteration 58000 | 96.7, loss: 2.6238210201263428\n",
      "Accuracy: 0.31700000166893005\n",
      "Iteration 59000 | 98.3, loss: 0.7787327170372009\n",
      "Accuracy: 0.3540000021457672\n",
      "Iteration 60000 | 1e+02, loss: 1.4557219743728638\n",
      "Accuracy: 0.36399999260902405\n"
     ]
    },
    {
     "data": {
      "image/png": "[encoded data removed]",
      "text/plain": [
       "<Figure size 640x480 with 1 Axes>"
      ]
     },
     "metadata": {},
     "output_type": "display_data"
    },
    {
     "name": "stdout",
     "output_type": "stream",
     "text": [
      "tensor([0.0459, 0.0827, 0.0459, 0.0459, 0.1833, 0.0459, 0.1224, 0.0459, 0.2332,\n",
      "        0.1490], grad_fn=<SoftmaxBackward0>)\n"
     ]
    }
   ],
   "source": [
    "model = CustomGraphNCA()\n",
    "loss = torch.nn.CrossEntropyLoss()\n",
    "optimizer = torch.optim.Adam(model.parameters(), lr=0.001)\n",
    "\n",
    "\n",
    "accuracy = torch.tensor(0, dtype=torch.float32)\n",
    "iteration = 0\n",
    "for img, tg in zip(images, labels):\n",
    "    image = torch.tensor(img, dtype=torch.float32).unsqueeze(1)\n",
    "    image_with_dists = torch.cat([image, torch.tensor(dists.reshape(-1, 1), dtype=torch.float32)], dim=1)\n",
    "    target = torch.tensor(tg, dtype=torch.float32)\n",
    "\n",
    "    optimizer.zero_grad()\n",
    "    output = model(image_with_dists, edge_index, edge_weights)\n",
    "\n",
    "    # output in range (-inf, 0) make into logits\n",
    "    \n",
    "\n",
    "    loss_val = loss(output.view(1, -1), target.view(1).long())\n",
    "\n",
    "    # print(output.shape)\n",
    "    loss_val.backward()\n",
    "    optimizer.step()\n",
    "    iteration += 1\n",
    "\n",
    "    props = F.softmax(output, dim=0)\n",
    "\n",
    "    accuracy += (props.argmax() == tg).float()\n",
    "    if iteration % 1000 == 0:\n",
    "        print(f'Iteration {iteration} | {iteration/len(images)*100:.3}, loss: {loss_val.item()}')\n",
    "        print(f'Accuracy: {accuracy/1000}')\n",
    "        accuracy = torch.tensor(0, dtype=torch.float32)\n",
    "\n",
    "    if iteration % 10000 == 0:\n",
    "        plt.imshow(img.reshape(28,28))\n",
    "        plt.title('Predicted: %d, True: %d' % (props.argmax(), tg))\n",
    "        plt.show()\n",
    "        print(props)\n",
    "\n"
   ]
  },
  {
   "cell_type": "code",
   "execution_count": null,
   "metadata": {},
   "outputs": [],
   "source": []
  }
 ],
 "metadata": {
  "kernelspec": {
   "display_name": "drosophila",
   "language": "python",
   "name": "python3"
  },
  "language_info": {
   "codemirror_mode": {
    "name": "ipython",
    "version": 3
   },
   "file_extension": ".py",
   "mimetype": "text/x-python",
   "name": "python",
   "nbconvert_exporter": "python",
   "pygments_lexer": "ipython3",
   "version": "3.10.13"
  }
 },
 "nbformat": 4,
 "nbformat_minor": 2
}
