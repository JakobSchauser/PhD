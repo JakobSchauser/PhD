{
 "cells": [
  {
   "cell_type": "code",
   "execution_count": 2,
   "metadata": {},
   "outputs": [],
   "source": [
    "import numpy as np\n",
    "import torch\n",
    "\n",
    "import matplotlib.pyplot as plt\n",
    "\n"
   ]
  },
  {
   "cell_type": "code",
   "execution_count": 3,
   "metadata": {},
   "outputs": [],
   "source": [
    "data = np.loadtxt('MNIST/mnist_train.csv', delimiter=',',)"
   ]
  },
  {
   "cell_type": "code",
   "execution_count": 52,
   "metadata": {},
   "outputs": [],
   "source": [
    "labels = data[:,0]\n",
    "images = data[:,1:]>0"
   ]
  },
  {
   "cell_type": "code",
   "execution_count": 74,
   "metadata": {},
   "outputs": [],
   "source": [
    "# distances from center in an 28x28 image\n",
    "x = np.linspace(-13.5, 13.5, 28)\n",
    "\n",
    "\n",
    "dists = np.sqrt(np.add.outer(x**2, x**2))"
   ]
  },
  {
   "cell_type": "code",
   "execution_count": null,
   "metadata": {},
   "outputs": [],
   "source": [
    "from torch_geometric.nn import GCNConv, Linear, GraphConv\n",
    "import torch.nn.functional as F\n",
    "from torch_geometric.nn import MessagePassing\n",
    "from typing import Union, Tuple\n",
    "from torch_geometric.typing import Adj, OptTensor, Size, OptPairTensor, Tensor\n",
    "from torch_geometric.utils import spmm\n",
    "\n",
    "class CustomGraphConv(MessagePassing):\n",
    "\tdef __init__(\n",
    "\t\tself,\n",
    "\t\taggr: str = 'mean',\n",
    "\t\tbias: bool = True,\n",
    "\t\tout_channels: int = 8,\n",
    "\t\t**kwargs,\n",
    "\t):\n",
    "\t\tsuper().__init__(aggr=aggr, **kwargs)\n",
    "\n",
    "\n",
    "\t\tself.lin_rel = Linear(2, out_channels=out_channels, bias=bias)\n",
    "\n",
    "\t\tself.reset_parameters()\n",
    "\n",
    "\tdef reset_parameters(self):\n",
    "\t\tsuper().reset_parameters()\n",
    "\t\tself.lin_rel.reset_parameters()\n",
    "\t\t# self.lin_root.reset_parameters()\n",
    "\n",
    "\n",
    "\tdef forward(self, x: Union[Tensor, OptPairTensor], edge_index: Adj,\n",
    "\t\t\t\tedge_weight: OptTensor = None, size: Size = None, add_root_weight : bool = True) -> Tensor:\n",
    "\n",
    "\t\tprint(\"x.shape\")\n",
    "\n",
    "\t\tmsg = self.propagate(edge_index, x=x[:,0], edge_weight=edge_weight,\n",
    "\t\t\t\t\t\t\t size=None)\n",
    "\t\t\n",
    "\t\t# propagate again\n",
    "\t\tprint(\"msg.shape\")\n",
    "\t\tprint(msg.shape)\n",
    "\n",
    "\t\tmsg = torch.cat([x, msg], dim=1)\n",
    "\n",
    "\n",
    "\t\tout = self.lin_rel(msg)\n",
    "\t\t\n",
    "\t\treturn out\n",
    "\n",
    "\n",
    "\tdef message_and_aggregate(self, adj_t: Adj, x: OptPairTensor) -> Tensor:\n",
    "\t\tprint(self.aggr)\n",
    "\t\treturn spmm(adj_t, x[0], reduce=self.aggr)\n",
    "\t\n",
    "\n",
    "class CustomGraphNCA(torch.nn.Module):\n",
    "\tdef __init__(self):\n",
    "\t\tsuper(CustomGraphNCA, self).__init__()\n",
    "\t\tN = 32\n",
    "\t\tself.conv1 = CustomGraphConv(out_channels=N)\n",
    "\t\tself.lin = Linear(N, N)\n",
    "\t\tself.lin2 = Linear(N, 10)\n",
    "\n",
    "\tdef forward(self, x, edge_index):\n",
    "\t\tx = F.relu(self.conv1(x, edge_index))\n",
    "\t\tx = F.relu(self.lin(x))\n",
    "\t\tx = F.relu(self.lin2(x))\n",
    "\n",
    "\n",
    "\t\t# take weighted average of the guesses\n",
    "\t\t# out = F.softmax(x, dim=1)\n",
    "\t\tout = F.relu(x)\n",
    "\t\t# out = torch.sum(out, dim=0)\n",
    "\t\t# nonzero mean\n",
    "\t\t# nonzero = torch.nonzero(out)\n",
    "\t\t# out = out[nonzero].mean(dim=0)\n",
    "\t\tout = out.sum(dim=0)\n",
    "\t\t# out = F.softmax(out, dim=0)\n",
    "\t\t\n",
    "\t\treturn out\n",
    "\t\n",
    "\n",
    "# define edges for a 28x28 grid where each node is connected to its 8 neighbors\n",
    "N = 28\n",
    "\n",
    "adjacency = np.zeros((N*N, N*N))\n",
    "\n",
    "\n",
    "for i in range(N):\n",
    "\tfor j in range(N):\n",
    "\t\tneighbors = []\n",
    "\t\tif i > 0:\n",
    "\t\t\tneighbors.append((i-1)*N+j)\n",
    "\t\tif i < N-1:\n",
    "\t\t\tneighbors.append((i+1)*N+j)\n",
    "\t\tif j > 0:\n",
    "\t\t\tneighbors.append(i*N+j-1)\n",
    "\t\tif j < N-1:\n",
    "\t\t\tneighbors.append(i*N+j+1)\n",
    "\t\tif i > 0 and j > 0:\n",
    "\t\t\tneighbors.append((i-1)*N+j-1)\n",
    "\t\tif i > 0 and j < N-1:\n",
    "\t\t\tneighbors.append((i-1)*N+j+1)\n",
    "\t\tif i < N-1 and j > 0:\n",
    "\t\t\tneighbors.append((i+1)*N+j-1)\n",
    "\t\tif i < N-1 and j < N-1:\n",
    "\t\t\tneighbors.append((i+1)*N+j+1)\n",
    "\t\tfor n in neighbors:\n",
    "\t\t\tadjacency[i*N+j, n] = 1\n",
    "\t\t\tadjacency[n, i*N+j] = 1\n",
    "\n",
    "\n",
    "\n",
    "\n",
    "# make the adjacency matrix into edge list\n",
    "edges = []\n",
    "for i in range(N*N):\n",
    "\tfor j in range(N*N):\n",
    "\t\tif adjacency[i,j] == 1:\n",
    "\t\t\tedges.append((i,j))\n",
    "\n",
    "edge_index = torch.tensor(edges, dtype=torch.long).t().contiguous()\n",
    "\n",
    "\n"
   ]
  },
  {
   "cell_type": "code",
   "execution_count": 121,
   "metadata": {},
   "outputs": [
    {
     "data": {
      "text/plain": [
       "60000"
      ]
     },
     "execution_count": 121,
     "metadata": {},
     "output_type": "execute_result"
    }
   ],
   "source": [
    "len(images)"
   ]
  },
  {
   "cell_type": "code",
   "execution_count": 128,
   "metadata": {},
   "outputs": [
    {
     "name": "stdout",
     "output_type": "stream",
     "text": [
      "x.shape\n",
      "torch.Size([784, 2])\n",
      "x0.shape\n",
      "torch.Size([784])\n"
     ]
    },
    {
     "ename": "IndexError",
     "evalue": "Dimension out of range (expected to be in range of [-1, 0], but got -2)",
     "output_type": "error",
     "traceback": [
      "\u001b[1;31m---------------------------------------------------------------------------\u001b[0m",
      "\u001b[1;31mIndexError\u001b[0m                                Traceback (most recent call last)",
      "Cell \u001b[1;32mIn[128], line 14\u001b[0m\n\u001b[0;32m     11\u001b[0m target \u001b[38;5;241m=\u001b[39m torch\u001b[38;5;241m.\u001b[39mtensor(tg, dtype\u001b[38;5;241m=\u001b[39mtorch\u001b[38;5;241m.\u001b[39mfloat32)\n\u001b[0;32m     13\u001b[0m optimizer\u001b[38;5;241m.\u001b[39mzero_grad()\n\u001b[1;32m---> 14\u001b[0m output \u001b[38;5;241m=\u001b[39m \u001b[43mmodel\u001b[49m\u001b[43m(\u001b[49m\u001b[43mimage_with_dists\u001b[49m\u001b[43m,\u001b[49m\u001b[43m \u001b[49m\u001b[43medge_index\u001b[49m\u001b[43m)\u001b[49m\n\u001b[0;32m     16\u001b[0m \u001b[38;5;66;03m# output in range (-inf, 0) make into logits\u001b[39;00m\n\u001b[0;32m     19\u001b[0m loss_val \u001b[38;5;241m=\u001b[39m loss(output\u001b[38;5;241m.\u001b[39mview(\u001b[38;5;241m1\u001b[39m, \u001b[38;5;241m-\u001b[39m\u001b[38;5;241m1\u001b[39m), target\u001b[38;5;241m.\u001b[39mview(\u001b[38;5;241m1\u001b[39m)\u001b[38;5;241m.\u001b[39mlong())\n",
      "File \u001b[1;32m~\\AppData\\Roaming\\Python\\Python310\\site-packages\\torch\\nn\\modules\\module.py:1739\u001b[0m, in \u001b[0;36mModule._wrapped_call_impl\u001b[1;34m(self, *args, **kwargs)\u001b[0m\n\u001b[0;32m   1737\u001b[0m     \u001b[38;5;28;01mreturn\u001b[39;00m \u001b[38;5;28mself\u001b[39m\u001b[38;5;241m.\u001b[39m_compiled_call_impl(\u001b[38;5;241m*\u001b[39margs, \u001b[38;5;241m*\u001b[39m\u001b[38;5;241m*\u001b[39mkwargs)  \u001b[38;5;66;03m# type: ignore[misc]\u001b[39;00m\n\u001b[0;32m   1738\u001b[0m \u001b[38;5;28;01melse\u001b[39;00m:\n\u001b[1;32m-> 1739\u001b[0m     \u001b[38;5;28;01mreturn\u001b[39;00m \u001b[38;5;28mself\u001b[39m\u001b[38;5;241m.\u001b[39m_call_impl(\u001b[38;5;241m*\u001b[39margs, \u001b[38;5;241m*\u001b[39m\u001b[38;5;241m*\u001b[39mkwargs)\n",
      "File \u001b[1;32m~\\AppData\\Roaming\\Python\\Python310\\site-packages\\torch\\nn\\modules\\module.py:1750\u001b[0m, in \u001b[0;36mModule._call_impl\u001b[1;34m(self, *args, **kwargs)\u001b[0m\n\u001b[0;32m   1745\u001b[0m \u001b[38;5;66;03m# If we don't have any hooks, we want to skip the rest of the logic in\u001b[39;00m\n\u001b[0;32m   1746\u001b[0m \u001b[38;5;66;03m# this function, and just call forward.\u001b[39;00m\n\u001b[0;32m   1747\u001b[0m \u001b[38;5;28;01mif\u001b[39;00m \u001b[38;5;129;01mnot\u001b[39;00m (\u001b[38;5;28mself\u001b[39m\u001b[38;5;241m.\u001b[39m_backward_hooks \u001b[38;5;129;01mor\u001b[39;00m \u001b[38;5;28mself\u001b[39m\u001b[38;5;241m.\u001b[39m_backward_pre_hooks \u001b[38;5;129;01mor\u001b[39;00m \u001b[38;5;28mself\u001b[39m\u001b[38;5;241m.\u001b[39m_forward_hooks \u001b[38;5;129;01mor\u001b[39;00m \u001b[38;5;28mself\u001b[39m\u001b[38;5;241m.\u001b[39m_forward_pre_hooks\n\u001b[0;32m   1748\u001b[0m         \u001b[38;5;129;01mor\u001b[39;00m _global_backward_pre_hooks \u001b[38;5;129;01mor\u001b[39;00m _global_backward_hooks\n\u001b[0;32m   1749\u001b[0m         \u001b[38;5;129;01mor\u001b[39;00m _global_forward_hooks \u001b[38;5;129;01mor\u001b[39;00m _global_forward_pre_hooks):\n\u001b[1;32m-> 1750\u001b[0m     \u001b[38;5;28;01mreturn\u001b[39;00m forward_call(\u001b[38;5;241m*\u001b[39margs, \u001b[38;5;241m*\u001b[39m\u001b[38;5;241m*\u001b[39mkwargs)\n\u001b[0;32m   1752\u001b[0m result \u001b[38;5;241m=\u001b[39m \u001b[38;5;28;01mNone\u001b[39;00m\n\u001b[0;32m   1753\u001b[0m called_always_called_hooks \u001b[38;5;241m=\u001b[39m \u001b[38;5;28mset\u001b[39m()\n",
      "Cell \u001b[1;32mIn[120], line 65\u001b[0m, in \u001b[0;36mCustomGraphNCA.forward\u001b[1;34m(self, x, edge_index)\u001b[0m\n\u001b[0;32m     64\u001b[0m \u001b[38;5;28;01mdef\u001b[39;00m \u001b[38;5;21mforward\u001b[39m(\u001b[38;5;28mself\u001b[39m, x, edge_index):\n\u001b[1;32m---> 65\u001b[0m \tx \u001b[38;5;241m=\u001b[39m F\u001b[38;5;241m.\u001b[39mrelu(\u001b[38;5;28;43mself\u001b[39;49m\u001b[38;5;241;43m.\u001b[39;49m\u001b[43mconv1\u001b[49m\u001b[43m(\u001b[49m\u001b[43mx\u001b[49m\u001b[43m,\u001b[49m\u001b[43m \u001b[49m\u001b[43medge_index\u001b[49m\u001b[43m)\u001b[49m)\n\u001b[0;32m     66\u001b[0m \tx \u001b[38;5;241m=\u001b[39m F\u001b[38;5;241m.\u001b[39mrelu(\u001b[38;5;28mself\u001b[39m\u001b[38;5;241m.\u001b[39mlin(x))\n\u001b[0;32m     67\u001b[0m \tx \u001b[38;5;241m=\u001b[39m F\u001b[38;5;241m.\u001b[39mrelu(\u001b[38;5;28mself\u001b[39m\u001b[38;5;241m.\u001b[39mlin2(x))\n",
      "File \u001b[1;32m~\\AppData\\Roaming\\Python\\Python310\\site-packages\\torch\\nn\\modules\\module.py:1739\u001b[0m, in \u001b[0;36mModule._wrapped_call_impl\u001b[1;34m(self, *args, **kwargs)\u001b[0m\n\u001b[0;32m   1737\u001b[0m     \u001b[38;5;28;01mreturn\u001b[39;00m \u001b[38;5;28mself\u001b[39m\u001b[38;5;241m.\u001b[39m_compiled_call_impl(\u001b[38;5;241m*\u001b[39margs, \u001b[38;5;241m*\u001b[39m\u001b[38;5;241m*\u001b[39mkwargs)  \u001b[38;5;66;03m# type: ignore[misc]\u001b[39;00m\n\u001b[0;32m   1738\u001b[0m \u001b[38;5;28;01melse\u001b[39;00m:\n\u001b[1;32m-> 1739\u001b[0m     \u001b[38;5;28;01mreturn\u001b[39;00m \u001b[38;5;28mself\u001b[39m\u001b[38;5;241m.\u001b[39m_call_impl(\u001b[38;5;241m*\u001b[39margs, \u001b[38;5;241m*\u001b[39m\u001b[38;5;241m*\u001b[39mkwargs)\n",
      "File \u001b[1;32m~\\AppData\\Roaming\\Python\\Python310\\site-packages\\torch\\nn\\modules\\module.py:1750\u001b[0m, in \u001b[0;36mModule._call_impl\u001b[1;34m(self, *args, **kwargs)\u001b[0m\n\u001b[0;32m   1745\u001b[0m \u001b[38;5;66;03m# If we don't have any hooks, we want to skip the rest of the logic in\u001b[39;00m\n\u001b[0;32m   1746\u001b[0m \u001b[38;5;66;03m# this function, and just call forward.\u001b[39;00m\n\u001b[0;32m   1747\u001b[0m \u001b[38;5;28;01mif\u001b[39;00m \u001b[38;5;129;01mnot\u001b[39;00m (\u001b[38;5;28mself\u001b[39m\u001b[38;5;241m.\u001b[39m_backward_hooks \u001b[38;5;129;01mor\u001b[39;00m \u001b[38;5;28mself\u001b[39m\u001b[38;5;241m.\u001b[39m_backward_pre_hooks \u001b[38;5;129;01mor\u001b[39;00m \u001b[38;5;28mself\u001b[39m\u001b[38;5;241m.\u001b[39m_forward_hooks \u001b[38;5;129;01mor\u001b[39;00m \u001b[38;5;28mself\u001b[39m\u001b[38;5;241m.\u001b[39m_forward_pre_hooks\n\u001b[0;32m   1748\u001b[0m         \u001b[38;5;129;01mor\u001b[39;00m _global_backward_pre_hooks \u001b[38;5;129;01mor\u001b[39;00m _global_backward_hooks\n\u001b[0;32m   1749\u001b[0m         \u001b[38;5;129;01mor\u001b[39;00m _global_forward_hooks \u001b[38;5;129;01mor\u001b[39;00m _global_forward_pre_hooks):\n\u001b[1;32m-> 1750\u001b[0m     \u001b[38;5;28;01mreturn\u001b[39;00m forward_call(\u001b[38;5;241m*\u001b[39margs, \u001b[38;5;241m*\u001b[39m\u001b[38;5;241m*\u001b[39mkwargs)\n\u001b[0;32m   1752\u001b[0m result \u001b[38;5;241m=\u001b[39m \u001b[38;5;28;01mNone\u001b[39;00m\n\u001b[0;32m   1753\u001b[0m called_always_called_hooks \u001b[38;5;241m=\u001b[39m \u001b[38;5;28mset\u001b[39m()\n",
      "Cell \u001b[1;32mIn[120], line 36\u001b[0m, in \u001b[0;36mCustomGraphConv.forward\u001b[1;34m(self, x, edge_index, edge_weight, size, add_root_weight)\u001b[0m\n\u001b[0;32m     34\u001b[0m \u001b[38;5;28mprint\u001b[39m(\u001b[38;5;124m\"\u001b[39m\u001b[38;5;124mx0.shape\u001b[39m\u001b[38;5;124m\"\u001b[39m)\n\u001b[0;32m     35\u001b[0m \u001b[38;5;28mprint\u001b[39m(x[:,\u001b[38;5;241m0\u001b[39m]\u001b[38;5;241m.\u001b[39mshape)\n\u001b[1;32m---> 36\u001b[0m msg \u001b[38;5;241m=\u001b[39m \u001b[38;5;28;43mself\u001b[39;49m\u001b[38;5;241;43m.\u001b[39;49m\u001b[43mpropagate\u001b[49m\u001b[43m(\u001b[49m\u001b[43medge_index\u001b[49m\u001b[43m,\u001b[49m\u001b[43m \u001b[49m\u001b[43mx\u001b[49m\u001b[38;5;241;43m=\u001b[39;49m\u001b[43mx\u001b[49m\u001b[43m[\u001b[49m\u001b[43m:\u001b[49m\u001b[43m,\u001b[49m\u001b[38;5;241;43m0\u001b[39;49m\u001b[43m]\u001b[49m\u001b[43m,\u001b[49m\u001b[43m \u001b[49m\u001b[43medge_weight\u001b[49m\u001b[38;5;241;43m=\u001b[39;49m\u001b[43medge_weight\u001b[49m\u001b[43m,\u001b[49m\n\u001b[0;32m     37\u001b[0m \u001b[43m\t\t\t\t\t \u001b[49m\u001b[43msize\u001b[49m\u001b[38;5;241;43m=\u001b[39;49m\u001b[38;5;28;43;01mNone\u001b[39;49;00m\u001b[43m)\u001b[49m\n\u001b[0;32m     39\u001b[0m \u001b[38;5;66;03m# propagate again\u001b[39;00m\n\u001b[0;32m     40\u001b[0m \u001b[38;5;28mprint\u001b[39m(\u001b[38;5;124m\"\u001b[39m\u001b[38;5;124mmsg.shape\u001b[39m\u001b[38;5;124m\"\u001b[39m)\n",
      "File \u001b[1;32mc:\\ProgramData\\miniconda3\\envs\\drosophila\\lib\\site-packages\\torch_geometric\\nn\\conv\\message_passing.py:545\u001b[0m, in \u001b[0;36mMessagePassing.propagate\u001b[1;34m(self, edge_index, size, **kwargs)\u001b[0m\n\u001b[0;32m    542\u001b[0m     \u001b[38;5;28;01mfor\u001b[39;00m arg \u001b[38;5;129;01min\u001b[39;00m decomp_args:\n\u001b[0;32m    543\u001b[0m         kwargs[arg] \u001b[38;5;241m=\u001b[39m decomp_kwargs[arg][i]\n\u001b[1;32m--> 545\u001b[0m coll_dict \u001b[38;5;241m=\u001b[39m \u001b[38;5;28;43mself\u001b[39;49m\u001b[38;5;241;43m.\u001b[39;49m\u001b[43m_collect\u001b[49m\u001b[43m(\u001b[49m\u001b[38;5;28;43mself\u001b[39;49m\u001b[38;5;241;43m.\u001b[39;49m\u001b[43m_user_args\u001b[49m\u001b[43m,\u001b[49m\u001b[43m \u001b[49m\u001b[43medge_index\u001b[49m\u001b[43m,\u001b[49m\n\u001b[0;32m    546\u001b[0m \u001b[43m                          \u001b[49m\u001b[43mmutable_size\u001b[49m\u001b[43m,\u001b[49m\u001b[43m \u001b[49m\u001b[43mkwargs\u001b[49m\u001b[43m)\u001b[49m\n\u001b[0;32m    548\u001b[0m msg_kwargs \u001b[38;5;241m=\u001b[39m \u001b[38;5;28mself\u001b[39m\u001b[38;5;241m.\u001b[39minspector\u001b[38;5;241m.\u001b[39mcollect_param_data(\n\u001b[0;32m    549\u001b[0m     \u001b[38;5;124m'\u001b[39m\u001b[38;5;124mmessage\u001b[39m\u001b[38;5;124m'\u001b[39m, coll_dict)\n\u001b[0;32m    550\u001b[0m \u001b[38;5;28;01mfor\u001b[39;00m hook \u001b[38;5;129;01min\u001b[39;00m \u001b[38;5;28mself\u001b[39m\u001b[38;5;241m.\u001b[39m_message_forward_pre_hooks\u001b[38;5;241m.\u001b[39mvalues():\n",
      "File \u001b[1;32mc:\\ProgramData\\miniconda3\\envs\\drosophila\\lib\\site-packages\\torch_geometric\\nn\\conv\\message_passing.py:406\u001b[0m, in \u001b[0;36mMessagePassing._collect\u001b[1;34m(self, args, edge_index, size, kwargs)\u001b[0m\n\u001b[0;32m    403\u001b[0m     data \u001b[38;5;241m=\u001b[39m data[dim]\n\u001b[0;32m    405\u001b[0m \u001b[38;5;28;01mif\u001b[39;00m \u001b[38;5;28misinstance\u001b[39m(data, Tensor):\n\u001b[1;32m--> 406\u001b[0m     \u001b[38;5;28;43mself\u001b[39;49m\u001b[38;5;241;43m.\u001b[39;49m\u001b[43m_set_size\u001b[49m\u001b[43m(\u001b[49m\u001b[43msize\u001b[49m\u001b[43m,\u001b[49m\u001b[43m \u001b[49m\u001b[43mdim\u001b[49m\u001b[43m,\u001b[49m\u001b[43m \u001b[49m\u001b[43mdata\u001b[49m\u001b[43m)\u001b[49m\n\u001b[0;32m    407\u001b[0m     data \u001b[38;5;241m=\u001b[39m \u001b[38;5;28mself\u001b[39m\u001b[38;5;241m.\u001b[39m_lift(data, edge_index, dim)\n\u001b[0;32m    409\u001b[0m out[arg] \u001b[38;5;241m=\u001b[39m data\n",
      "File \u001b[1;32mc:\\ProgramData\\miniconda3\\envs\\drosophila\\lib\\site-packages\\torch_geometric\\nn\\conv\\message_passing.py:303\u001b[0m, in \u001b[0;36mMessagePassing._set_size\u001b[1;34m(self, size, dim, src)\u001b[0m\n\u001b[0;32m    301\u001b[0m the_size \u001b[38;5;241m=\u001b[39m size[dim]\n\u001b[0;32m    302\u001b[0m \u001b[38;5;28;01mif\u001b[39;00m the_size \u001b[38;5;129;01mis\u001b[39;00m \u001b[38;5;28;01mNone\u001b[39;00m:\n\u001b[1;32m--> 303\u001b[0m     size[dim] \u001b[38;5;241m=\u001b[39m \u001b[43msrc\u001b[49m\u001b[38;5;241;43m.\u001b[39;49m\u001b[43msize\u001b[49m\u001b[43m(\u001b[49m\u001b[38;5;28;43mself\u001b[39;49m\u001b[38;5;241;43m.\u001b[39;49m\u001b[43mnode_dim\u001b[49m\u001b[43m)\u001b[49m\n\u001b[0;32m    304\u001b[0m \u001b[38;5;28;01melif\u001b[39;00m the_size \u001b[38;5;241m!=\u001b[39m src\u001b[38;5;241m.\u001b[39msize(\u001b[38;5;28mself\u001b[39m\u001b[38;5;241m.\u001b[39mnode_dim):\n\u001b[0;32m    305\u001b[0m     \u001b[38;5;28;01mraise\u001b[39;00m \u001b[38;5;167;01mValueError\u001b[39;00m(\n\u001b[0;32m    306\u001b[0m         (\u001b[38;5;124mf\u001b[39m\u001b[38;5;124m'\u001b[39m\u001b[38;5;124mEncountered tensor with size \u001b[39m\u001b[38;5;132;01m{\u001b[39;00msrc\u001b[38;5;241m.\u001b[39msize(\u001b[38;5;28mself\u001b[39m\u001b[38;5;241m.\u001b[39mnode_dim)\u001b[38;5;132;01m}\u001b[39;00m\u001b[38;5;124m in \u001b[39m\u001b[38;5;124m'\u001b[39m\n\u001b[0;32m    307\u001b[0m          \u001b[38;5;124mf\u001b[39m\u001b[38;5;124m'\u001b[39m\u001b[38;5;124mdimension \u001b[39m\u001b[38;5;132;01m{\u001b[39;00m\u001b[38;5;28mself\u001b[39m\u001b[38;5;241m.\u001b[39mnode_dim\u001b[38;5;132;01m}\u001b[39;00m\u001b[38;5;124m, but expected size \u001b[39m\u001b[38;5;132;01m{\u001b[39;00mthe_size\u001b[38;5;132;01m}\u001b[39;00m\u001b[38;5;124m.\u001b[39m\u001b[38;5;124m'\u001b[39m))\n",
      "\u001b[1;31mIndexError\u001b[0m: Dimension out of range (expected to be in range of [-1, 0], but got -2)"
     ]
    }
   ],
   "source": [
    "model = CustomGraphNCA()\n",
    "loss = torch.nn.CrossEntropyLoss()\n",
    "optimizer = torch.optim.Adam(model.parameters(), lr=0.001)\n",
    "\n",
    "\n",
    "accuracy = torch.tensor(0, dtype=torch.float32)\n",
    "iteration = 0\n",
    "for img, tg in zip(images, labels):\n",
    "    image = torch.tensor(img, dtype=torch.float32).unsqueeze(1)\n",
    "    image_with_dists = torch.cat([image, torch.tensor(dists.reshape(-1, 1), dtype=torch.float32)], dim=1)\n",
    "    target = torch.tensor(tg, dtype=torch.float32)\n",
    "\n",
    "    optimizer.zero_grad()\n",
    "    output = model(image_with_dists, edge_index)\n",
    "\n",
    "    # output in range (-inf, 0) make into logits\n",
    "    \n",
    "\n",
    "    loss_val = loss(output.view(1, -1), target.view(1).long())\n",
    "\n",
    "    # print(output.shape)\n",
    "    loss_val.backward()\n",
    "    optimizer.step()\n",
    "    iteration += 1\n",
    "\n",
    "    props = F.softmax(output, dim=0)\n",
    "\n",
    "    accuracy += (props.argmax() == tg).float()\n",
    "    if iteration % 1000 == 0:\n",
    "        print(f'Iteration {iteration} | {iteration/len(images)*100:.3}, loss: {loss_val.item()}')\n",
    "        print(f'Accuracy: {accuracy/1000}')\n",
    "        accuracy = torch.tensor(0, dtype=torch.float32)\n",
    "\n",
    "    if iteration % 10000 == 0:\n",
    "        plt.imshow(img.reshape(28,28))\n",
    "        plt.title('Predicted: %d, True: %d' % (props.argmax(), tg))\n",
    "        plt.show()\n",
    "        print(props)\n",
    "\n"
   ]
  },
  {
   "cell_type": "code",
   "execution_count": null,
   "metadata": {},
   "outputs": [],
   "source": [
    "1/10"
   ]
  },
  {
   "cell_type": "code",
   "execution_count": null,
   "metadata": {},
   "outputs": [],
   "source": []
  }
 ],
 "metadata": {
  "kernelspec": {
   "display_name": "drosophila",
   "language": "python",
   "name": "python3"
  },
  "language_info": {
   "codemirror_mode": {
    "name": "ipython",
    "version": 3
   },
   "file_extension": ".py",
   "mimetype": "text/x-python",
   "name": "python",
   "nbconvert_exporter": "python",
   "pygments_lexer": "ipython3",
   "version": "3.10.13"
  }
 },
 "nbformat": 4,
 "nbformat_minor": 2
}
