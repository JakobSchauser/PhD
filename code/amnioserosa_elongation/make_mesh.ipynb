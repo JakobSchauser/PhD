{
 "cells": [
  {
   "cell_type": "code",
   "execution_count": 91,
   "metadata": {},
   "outputs": [],
   "source": [
    "import numpy as np\n",
    "import pyvista as pv\n"
   ]
  },
  {
   "cell_type": "code",
   "execution_count": 116,
   "metadata": {},
   "outputs": [
    {
     "data": {
      "application/vnd.jupyter.widget-view+json": {
       "model_id": "b98ce09b08b546a8947609e7a9746d4d",
       "version_major": 2,
       "version_minor": 0
      },
      "text/plain": [
       "Widget(value='<iframe src=\"http://localhost:51005/index.html?ui=P_0x1d38d01a7f0_36&reconnect=auto\" class=\"pyvi…"
      ]
     },
     "metadata": {},
     "output_type": "display_data"
    }
   ],
   "source": [
    "points = np.load('poss_erda.npy')\n",
    "\n",
    "\n",
    "colors = np.ones((points.shape[0], 3))\n",
    "\n",
    "# random colors\n",
    "colors = np.random.rand(points.shape[0], 3)\n",
    "\n",
    "# surf = cloud.reconstruct_surface()\n",
    "\n",
    "cloud = pv.PolyData(points)\n",
    "surf = cloud.delaunay_3d(alpha=15.)\n",
    "\n",
    "# add the colors to the mesh\n",
    "# surf.cell_arrays['colors'] = colors\n",
    "\n",
    "\n",
    "\n",
    "\n",
    "\n",
    "\n",
    "\n",
    "\n",
    "# show the points\n",
    "pl = pv.Plotter()\n",
    "pl.add_mesh(cloud, point_size=5)\n",
    "surf.cells = surf.cells[:15]\n",
    "\n",
    "pl.add_mesh(surf,  show_edges=True)\n",
    "pl.show()\n"
   ]
  },
  {
   "cell_type": "code",
   "execution_count": 115,
   "metadata": {},
   "outputs": [
    {
     "data": {
      "text/plain": [
       "array([   3,  574,  846,  389,    3,  389, 1500,  574,    3, 3348, 4432,\n",
       "       1987,    3, 4432, 1987], dtype=int64)"
      ]
     },
     "execution_count": 115,
     "metadata": {},
     "output_type": "execute_result"
    }
   ],
   "source": []
  },
  {
   "cell_type": "markdown",
   "metadata": {},
   "source": [
    "Not exactly looking perfect :(\n",
    "\n",
    "![alt text](viz_screenshot.png)"
   ]
  }
 ],
 "metadata": {
  "kernelspec": {
   "display_name": "reworked",
   "language": "python",
   "name": "python3"
  },
  "language_info": {
   "codemirror_mode": {
    "name": "ipython",
    "version": 3
   },
   "file_extension": ".py",
   "mimetype": "text/x-python",
   "name": "python",
   "nbconvert_exporter": "python",
   "pygments_lexer": "ipython3",
   "version": "3.9.18"
  }
 },
 "nbformat": 4,
 "nbformat_minor": 2
}
