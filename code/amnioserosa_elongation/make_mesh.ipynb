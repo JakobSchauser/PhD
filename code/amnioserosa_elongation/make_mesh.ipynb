{
 "cells": [
  {
   "cell_type": "code",
   "execution_count": 64,
   "metadata": {},
   "outputs": [],
   "source": [
    "import numpy as np\n",
    "import pyvista as pv\n",
    "# import voronoi\n",
    "from scipy.spatial import Voronoi, voronoi_plot_2d\n",
    "\n",
    "pv.global_theme.allow_empty_mesh = True"
   ]
  },
  {
   "cell_type": "code",
   "execution_count": 60,
   "metadata": {},
   "outputs": [],
   "source": [
    "def to_pv_style(array_2d, illegal):\n",
    "    style = []\n",
    "    for a in array_2d:\n",
    "\n",
    "        if -1 in a:\n",
    "            continue\n",
    "        \n",
    "        a_clean = [a_i for a_i in a if a_i not in illegal]\n",
    "        la = len(a_clean)\n",
    "        if la == 0:\n",
    "            continue\n",
    "        style.append(la)\n",
    "        for aa in a_clean:\n",
    "            style.append(aa)\n",
    "\n",
    "    return style"
   ]
  },
  {
   "cell_type": "code",
   "execution_count": 78,
   "metadata": {},
   "outputs": [
    {
     "data": {
      "application/vnd.jupyter.widget-view+json": {
       "model_id": "0090226dd1014bcd8c3a71b519d6b235",
       "version_major": 2,
       "version_minor": 0
      },
      "text/plain": [
       "Widget(value='<iframe src=\"http://localhost:51005/index.html?ui=P_0x1d2b6a2d8b0_16&reconnect=auto\" class=\"pyvi…"
      ]
     },
     "metadata": {},
     "output_type": "display_data"
    }
   ],
   "source": [
    "points = np.load('poss_erda.npy')\n",
    "\n",
    "# Step 2: Compute the Voronoi diagram\n",
    "vor = Voronoi(points)\n",
    "\n",
    "vor_points = vor.vertices\n",
    "\n",
    "vor_faces = vor.regions\n",
    "\n",
    "\n",
    "# remove points that are too far away\n",
    "illegal = []\n",
    "for i, p in enumerate(vor_points):\n",
    "    if np.linalg.norm(p) > 60:\n",
    "        illegal.append(i)\n",
    "\n",
    "vor_faces = to_pv_style(vor_faces, illegal)\n",
    "\n",
    "\n",
    "# Step 3: Create a PyVista mesh of the Voronoi diagram\n",
    "vor_mesh = pv.PolyData()\n",
    "vor_mesh.points = vor_points\n",
    "vor_mesh.faces = np.array(vor_faces)\n",
    "\n",
    "\n",
    "# Step 4: Plot the Voronoi diagram\n",
    "p = pv.Plotter()\n",
    "p.add_mesh(vor_mesh,)\n",
    "# p.add_points(points, color='r')\n",
    "p.show()"
   ]
  },
  {
   "cell_type": "markdown",
   "metadata": {},
   "source": [
    "Not exactly looking perfect :(\n",
    "\n",
    "![alt text](viz_screenshot.png)"
   ]
  }
 ],
 "metadata": {
  "kernelspec": {
   "display_name": "reworked",
   "language": "python",
   "name": "python3"
  },
  "language_info": {
   "codemirror_mode": {
    "name": "ipython",
    "version": 3
   },
   "file_extension": ".py",
   "mimetype": "text/x-python",
   "name": "python",
   "nbconvert_exporter": "python",
   "pygments_lexer": "ipython3",
   "version": "3.9.18"
  }
 },
 "nbformat": 4,
 "nbformat_minor": 2
}
