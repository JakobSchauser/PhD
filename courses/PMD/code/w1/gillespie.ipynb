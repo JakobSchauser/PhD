{
 "cells": [
  {
   "cell_type": "code",
   "execution_count": 3,
   "id": "2153f9e3",
   "metadata": {},
   "outputs": [],
   "source": [
    "import numpy as np\n",
    "import matplotlib.pyplot as plt\n",
    "\n",
    "from enum import Enum"
   ]
  },
  {
   "cell_type": "markdown",
   "id": "8102fd90",
   "metadata": {},
   "source": [
    "$$ df/dx = k_n \\cdot m^{n_c} - k_a \\cdot m \\cdot f$$"
   ]
  },
  {
   "cell_type": "code",
   "execution_count": 56,
   "id": "3f92ee3e",
   "metadata": {},
   "outputs": [],
   "source": [
    "\n",
    "class Event(Enum):\n",
    "    NUCLEATION = 0\n",
    "    ASSOCIATION = 1\n",
    "\n",
    "\n",
    "\n",
    "class Gillespie:\n",
    "    def __init__(self, k_nucleation, k_association):\n",
    "        self.n_c = 3\n",
    "\n",
    "        self.n_0 = 100000/2\n",
    "\n",
    "        self.k_nucleation = k_nucleation\n",
    "        self.k_association = k_association\n",
    "\n",
    "        self.reset()\n",
    "\n",
    "    def reset(self,):\n",
    "        self.polymers = []\n",
    "        self.polymers_over_time = []\n",
    "        self.n = self.n_0\n",
    "\n",
    "        self.update()\n",
    "\n",
    "    def update(self,):\n",
    "\n",
    "        self.m = self.n / self.n_c\n",
    "        self.rate_nucleation = self.k_nucleation * (self.m ** self.n_c)\n",
    "        self.rate_association = self.k_association * self.m\n",
    "\n",
    "        \n",
    "    \n",
    "\n",
    "    def get_gillespie_time(self, rate):\n",
    "        return - np.log(np.random.rand())/rate\n",
    "\n",
    "\n",
    "    def get_rates(self,):\n",
    "        rates = [self.rate_nucleation] + [self.rate_association] * len(self.polymers)\n",
    "        return np.array(rates)\n",
    "\n",
    "\n",
    "    def get_event_choice(self, all_rates):\n",
    "\n",
    "        return np.random.choice(\n",
    "            [Event.NUCLEATION] + [Event.ASSOCIATION] * len(self.polymers),\n",
    "            p = all_rates / np.sum(all_rates)\n",
    "            )\n",
    "    \n",
    "    \n",
    "        \n",
    "    \n",
    "    def run(self):\n",
    "\n",
    "        self.reset()\n",
    "\n",
    "        t = 0.0\n",
    "\n",
    "        step_i = 0  \n",
    "        while True:\n",
    "            if self.n <= 0:\n",
    "                print(\"No more monomers left.\")\n",
    "                break\n",
    "\n",
    "\n",
    "            all_rates = self.get_rates()\n",
    "            total_rate = np.sum(all_rates)\n",
    "            dt = self.get_gillespie_time(total_rate)\n",
    "            t += dt\n",
    "\n",
    "            event_type = self.get_event_choice(all_rates)\n",
    "\n",
    "            match event_type:\n",
    "                case Event.NUCLEATION:\n",
    "                    self.polymers.append(self.n_c)\n",
    "                    self.n -= self.n_c\n",
    "                \n",
    "                case Event.ASSOCIATION:\n",
    "                    random_index = np.random.randint(0, len(self.polymers))\n",
    "                    self.polymers[random_index] += 1\n",
    "                    self.n -= 1\n",
    "\n",
    "                case _:\n",
    "                    assert False, \"Unknown event type\"\n",
    "\n",
    "            self.polymers_over_time.append(self.polymers.copy())\n",
    "            self.update()\n",
    "            \n",
    "            step_i += 1\n",
    "\n",
    "        print(f\"Final time: {t:.2f}, after {step_i} steps\")\n",
    "        print(f\"Final number of polymers: {len(self.polymers)}\")\n",
    "\n",
    "\n",
    "\n",
    "\n"
   ]
  },
  {
   "cell_type": "code",
   "execution_count": 57,
   "id": "a4affa8f",
   "metadata": {},
   "outputs": [
    {
     "name": "stdout",
     "output_type": "stream",
     "text": [
      "No more monomers left.\n",
      "Final time: 0.00, after 44866 steps\n",
      "Final number of polymers: 2567\n"
     ]
    }
   ],
   "source": [
    "\n",
    "G = Gillespie(1, 1000000)\n",
    "\n",
    "G.run()\n"
   ]
  },
  {
   "cell_type": "markdown",
   "id": "7fcd972b",
   "metadata": {},
   "source": [
    "\n",
    "$$ M(t) = M_0 - (2C_1^2/n_c)^{1/n_c}\\cdot \\cosh(C_1\\sqrt{k_a k_n t}+C_2)^{-2/n_c}$$"
   ]
  },
  {
   "cell_type": "code",
   "execution_count": 104,
   "id": "9df399f1",
   "metadata": {},
   "outputs": [],
   "source": [
    "\n",
    "N_over_time = np.array([np.sum(pol) for pol in G.polymers_over_time])\n",
    "\n",
    "def M_t(t, C1):\n",
    "    M_0 = 100000/2\n",
    "    k_nucleation = 1\n",
    "    k_association = 1000000\n",
    "    n_c = 3\n",
    "\n",
    "    return M_0 - 0.5*(2*C1**2/n_c)**(1/n_c) * np.cosh(C1*np.sqrt(k_association*k_nucleation*t))**(-2/n_c)\n"
   ]
  },
  {
   "cell_type": "markdown",
   "id": "fed8f321",
   "metadata": {},
   "source": [
    "$(2C_1^2/n_c)^{1/n_c} = M_0 \\Leftrightarrow \\sqrt{M_0^{n_c} \\cdot n_c / 2} = C_1$"
   ]
  },
  {
   "cell_type": "code",
   "execution_count": 95,
   "id": "4a23722c",
   "metadata": {},
   "outputs": [],
   "source": [
    "N_over_time = np.insert(N_over_time, 0, 0)"
   ]
  },
  {
   "cell_type": "code",
   "execution_count": 96,
   "id": "48bfff81",
   "metadata": {},
   "outputs": [
    {
     "data": {
      "text/plain": [
       "array([    0,     3,     6, ..., 49998, 49999, 50000], shape=(44867,))"
      ]
     },
     "execution_count": 96,
     "metadata": {},
     "output_type": "execute_result"
    }
   ],
   "source": [
    "N_over_time"
   ]
  },
  {
   "cell_type": "code",
   "execution_count": 105,
   "id": "31357227",
   "metadata": {},
   "outputs": [
    {
     "data": {
      "text/plain": [
       "np.float64(2.9103830456733704e-11)"
      ]
     },
     "execution_count": 105,
     "metadata": {},
     "output_type": "execute_result"
    }
   ],
   "source": [
    "M_t(0, C1_guess)"
   ]
  },
  {
   "cell_type": "code",
   "execution_count": 113,
   "id": "895c2a3c",
   "metadata": {},
   "outputs": [
    {
     "name": "stdout",
     "output_type": "stream",
     "text": [
      "C1: 38726347.777028576, C1_guess: 38729833.46207417\n"
     ]
    },
    {
     "name": "stderr",
     "output_type": "stream",
     "text": [
      "C:\\Users\\jakob\\AppData\\Local\\Temp\\ipykernel_12032\\4186396032.py:9: RuntimeWarning: overflow encountered in cosh\n",
      "  return M_0 - 0.5*(2*C1**2/n_c)**(1/n_c) * np.cosh(C1*np.sqrt(k_association*k_nucleation*t))**(-2/n_c)\n"
     ]
    },
    {
     "data": {
      "text/plain": [
       "[<matplotlib.lines.Line2D at 0x2467fe0b5f0>]"
      ]
     },
     "execution_count": 113,
     "metadata": {},
     "output_type": "execute_result"
    },
    {
     "data": {
      "image/png": "[encoded data removed]",
      "text/plain": [
       "<Figure size 640x480 with 1 Axes>"
      ]
     },
     "metadata": {},
     "output_type": "display_data"
    }
   ],
   "source": [
    "\n",
    "plt.plot(N_over_time)\n",
    "\n",
    "XX = np.linspace(0, len(N_over_time), len(N_over_time))\n",
    "\n",
    "# import curve_fit from scipy.optimize\n",
    "from scipy.optimize import curve_fit\n",
    "M0 = 100000\n",
    "n_c = 3\n",
    "\n",
    "\n",
    "C1_guess = np.sqrt(M0**n_c * n_c/2)\n",
    "\n",
    "C1 = curve_fit(M_t, XX/10000, N_over_time, p0=[C1_guess])[0][0]\n",
    "\n",
    "print(f\"C1: {C1}, C1_guess: {C1_guess}\")\n",
    "plt.plot(XX, M_t(XX/10000, C1), label=\"M(t) fit\")\n",
    "\n",
    "plt.plot(XX, M_t(XX, C1_guess), '--', label=\"M(t) fit\")\n"
   ]
  }
 ],
 "metadata": {
  "kernelspec": {
   "display_name": "base",
   "language": "python",
   "name": "python3"
  },
  "language_info": {
   "codemirror_mode": {
    "name": "ipython",
    "version": 3
   },
   "file_extension": ".py",
   "mimetype": "text/x-python",
   "name": "python",
   "nbconvert_exporter": "python",
   "pygments_lexer": "ipython3",
   "version": "3.12.9"
  }
 },
 "nbformat": 4,
 "nbformat_minor": 5
}
